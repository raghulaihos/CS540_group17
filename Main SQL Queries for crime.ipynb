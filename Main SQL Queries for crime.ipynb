{
 "cells": [
  {
   "cell_type": "markdown",
   "metadata": {},
   "source": [
    "### 1. select age_group,count(*) as offense_count  from crime_in_cities  where city = \"new_york\" group by age_group order by offense_count DESC limit 5;"
   ]
  },
  {
   "cell_type": "markdown",
   "metadata": {},
   "source": [
    "### 2. select * from (select YEAR(str_to_date(date,\"%d/%m/%Y\")) as year, count(*) as offense_count from crime_in_cities where city = \"portland\" group by year order by offense_count desc limit 5) as q where q.year is  not NULL ;"
   ]
  },
  {
   "cell_type": "markdown",
   "metadata": {},
   "source": [
    "### 3. select race, count(*) as arrest_count from crime_in_cities where city = \"san diego\" group by race order by arrest_count desc limit 5;"
   ]
  }
 ],
 "metadata": {
  "kernelspec": {
   "display_name": "Python 3",
   "language": "python",
   "name": "python3"
  },
  "language_info": {
   "codemirror_mode": {
    "name": "ipython",
    "version": 3
   },
   "file_extension": ".py",
   "mimetype": "text/x-python",
   "name": "python",
   "nbconvert_exporter": "python",
   "pygments_lexer": "ipython3",
   "version": "3.7.5"
  }
 },
 "nbformat": 4,
 "nbformat_minor": 2
}
