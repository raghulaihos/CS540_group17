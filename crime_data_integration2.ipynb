{
 "cells": [
  {
   "cell_type": "code",
   "execution_count": 1,
   "metadata": {},
   "outputs": [],
   "source": [
    "import pandas as pd"
   ]
  },
  {
   "cell_type": "code",
   "execution_count": 2,
   "metadata": {},
   "outputs": [
    {
     "name": "stderr",
     "output_type": "stream",
     "text": [
      "/home/bh_parijat/anaconda3/lib/python3.7/site-packages/IPython/core/interactiveshell.py:3020: DtypeWarning: Columns (0,8,9,14) have mixed types. Specify dtype option on import or set low_memory=False.\n",
      "  interactivity=interactivity, compiler=compiler, result=result)\n",
      "/home/bh_parijat/anaconda3/lib/python3.7/site-packages/IPython/core/interactiveshell.py:3020: DtypeWarning: Columns (1,4) have mixed types. Specify dtype option on import or set low_memory=False.\n",
      "  interactivity=interactivity, compiler=compiler, result=result)\n",
      "/home/bh_parijat/anaconda3/lib/python3.7/site-packages/IPython/core/interactiveshell.py:3020: DtypeWarning: Columns (20) have mixed types. Specify dtype option on import or set low_memory=False.\n",
      "  interactivity=interactivity, compiler=compiler, result=result)\n",
      "/home/bh_parijat/anaconda3/lib/python3.7/site-packages/IPython/core/interactiveshell.py:3020: DtypeWarning: Columns (1) have mixed types. Specify dtype option on import or set low_memory=False.\n",
      "  interactivity=interactivity, compiler=compiler, result=result)\n",
      "/home/bh_parijat/anaconda3/lib/python3.7/site-packages/IPython/core/interactiveshell.py:3020: DtypeWarning: Columns (0) have mixed types. Specify dtype option on import or set low_memory=False.\n",
      "  interactivity=interactivity, compiler=compiler, result=result)\n",
      "/home/bh_parijat/anaconda3/lib/python3.7/site-packages/IPython/core/interactiveshell.py:3020: DtypeWarning: Columns (21) have mixed types. Specify dtype option on import or set low_memory=False.\n",
      "  interactivity=interactivity, compiler=compiler, result=result)\n"
     ]
    }
   ],
   "source": [
    "%%time\n",
    "portland = pd.read_csv(\"master/portland_master.csv\")\n",
    "san_diego = pd.read_csv(\"master/san_diego_master.csv\")\n",
    "san_jose = pd.read_csv(\"master/san_jose_master.csv\")\n",
    "denver = pd.read_csv(\"master/denver_master.csv\")\n",
    "nypd = pd.read_csv(\"master/nypd.csv\")\n",
    "los_angeles = pd.read_csv(\"master/LA_master.csv\")\n",
    "fortsworth = pd.read_csv(\"master/fortsworth_master.csv\")\n",
    "phoenix = pd.read_csv(\"master/phoenix.csv\")\n",
    "chicago = pd.read_csv(\"master/chicago_master.csv\")\n",
    "dc = pd.read_csv(\"master/dc_master.csv\")"
   ]
  },
  {
   "cell_type": "code",
   "execution_count": 3,
   "metadata": {},
   "outputs": [],
   "source": [
    "nypd['city'] = 'new_york'\n",
    "nypd['state'] = 'new_york'"
   ]
  },
  {
   "cell_type": "code",
   "execution_count": 4,
   "metadata": {},
   "outputs": [],
   "source": [
    "schema_columns = ['key','date','city','offense category','state','race','sex','age_group','zipcode','geo_x','geo_y']"
   ]
  },
  {
   "cell_type": "code",
   "execution_count": 5,
   "metadata": {},
   "outputs": [],
   "source": [
    "data = [portland,san_jose,san_diego,dc,nypd,phoenix,denver,chicago,fortsworth,los_angeles]\n",
    "data2 = data[:]"
   ]
  },
  {
   "cell_type": "code",
   "execution_count": 6,
   "metadata": {},
   "outputs": [
    {
     "name": "stdout",
     "output_type": "stream",
     "text": [
      "(268397, 16)\n",
      "(5308430, 18)\n",
      "(500332, 20)\n",
      "(153687, 28)\n",
      "(4792747, 23)\n",
      "(284631, 9)\n",
      "(472786, 21)\n",
      "(7084356, 24)\n",
      "(80281, 19)\n",
      "(1329881, 19)\n",
      "20275528\n"
     ]
    }
   ],
   "source": [
    "shape  = 0\n",
    "for d in data:\n",
    "    print(d.shape)\n",
    "    shape += d.shape[0]\n",
    "    \n",
    "print(shape)"
   ]
  },
  {
   "cell_type": "code",
   "execution_count": 7,
   "metadata": {},
   "outputs": [],
   "source": [
    "for d in data:\n",
    "    cols = d.columns\n",
    "    for c in schema_columns:\n",
    "        if c not in cols:\n",
    "            d[c] = None"
   ]
  },
  {
   "cell_type": "code",
   "execution_count": 8,
   "metadata": {},
   "outputs": [],
   "source": [
    "for i,d in enumerate(data):\n",
    "    data[i] = data[i].loc[:,schema_columns]"
   ]
  },
  {
   "cell_type": "code",
   "execution_count": 9,
   "metadata": {},
   "outputs": [
    {
     "data": {
      "text/plain": [
       "Index(['key', 'date', 'city', 'offense category', 'state', 'race', 'sex',\n",
       "       'age_group', 'zipcode', 'geo_x', 'geo_y'],\n",
       "      dtype='object')"
      ]
     },
     "execution_count": 9,
     "metadata": {},
     "output_type": "execute_result"
    }
   ],
   "source": [
    "data[0].columns"
   ]
  },
  {
   "cell_type": "code",
   "execution_count": 10,
   "metadata": {},
   "outputs": [
    {
     "data": {
      "text/html": [
       "<div>\n",
       "<style scoped>\n",
       "    .dataframe tbody tr th:only-of-type {\n",
       "        vertical-align: middle;\n",
       "    }\n",
       "\n",
       "    .dataframe tbody tr th {\n",
       "        vertical-align: top;\n",
       "    }\n",
       "\n",
       "    .dataframe thead th {\n",
       "        text-align: right;\n",
       "    }\n",
       "</style>\n",
       "<table border=\"1\" class=\"dataframe\">\n",
       "  <thead>\n",
       "    <tr style=\"text-align: right;\">\n",
       "      <th></th>\n",
       "      <th>key</th>\n",
       "      <th>date</th>\n",
       "      <th>city</th>\n",
       "      <th>offense category</th>\n",
       "      <th>state</th>\n",
       "      <th>race</th>\n",
       "      <th>sex</th>\n",
       "      <th>age_group</th>\n",
       "      <th>zipcode</th>\n",
       "      <th>geo_x</th>\n",
       "      <th>geo_y</th>\n",
       "    </tr>\n",
       "  </thead>\n",
       "  <tbody>\n",
       "    <tr>\n",
       "      <th>0</th>\n",
       "      <td>16-X4472988</td>\n",
       "      <td>1/1/2016</td>\n",
       "      <td>portland</td>\n",
       "      <td>Assault Offenses</td>\n",
       "      <td>oregon</td>\n",
       "      <td>None</td>\n",
       "      <td>None</td>\n",
       "      <td>None</td>\n",
       "      <td>None</td>\n",
       "      <td>NaN</td>\n",
       "      <td>NaN</td>\n",
       "    </tr>\n",
       "    <tr>\n",
       "      <th>1</th>\n",
       "      <td>16-X4473035</td>\n",
       "      <td>1/1/2016</td>\n",
       "      <td>portland</td>\n",
       "      <td>Assault Offenses</td>\n",
       "      <td>oregon</td>\n",
       "      <td>None</td>\n",
       "      <td>None</td>\n",
       "      <td>None</td>\n",
       "      <td>None</td>\n",
       "      <td>NaN</td>\n",
       "      <td>NaN</td>\n",
       "    </tr>\n",
       "    <tr>\n",
       "      <th>2</th>\n",
       "      <td>16-X4473043</td>\n",
       "      <td>1/1/2016</td>\n",
       "      <td>portland</td>\n",
       "      <td>Assault Offenses</td>\n",
       "      <td>oregon</td>\n",
       "      <td>None</td>\n",
       "      <td>None</td>\n",
       "      <td>None</td>\n",
       "      <td>None</td>\n",
       "      <td>NaN</td>\n",
       "      <td>NaN</td>\n",
       "    </tr>\n",
       "    <tr>\n",
       "      <th>3</th>\n",
       "      <td>16-X4473057</td>\n",
       "      <td>1/1/2016</td>\n",
       "      <td>portland</td>\n",
       "      <td>Assault Offenses</td>\n",
       "      <td>oregon</td>\n",
       "      <td>None</td>\n",
       "      <td>None</td>\n",
       "      <td>None</td>\n",
       "      <td>None</td>\n",
       "      <td>NaN</td>\n",
       "      <td>NaN</td>\n",
       "    </tr>\n",
       "    <tr>\n",
       "      <th>4</th>\n",
       "      <td>16-X4473081</td>\n",
       "      <td>1/1/2016</td>\n",
       "      <td>portland</td>\n",
       "      <td>Assault Offenses</td>\n",
       "      <td>oregon</td>\n",
       "      <td>None</td>\n",
       "      <td>None</td>\n",
       "      <td>None</td>\n",
       "      <td>None</td>\n",
       "      <td>NaN</td>\n",
       "      <td>NaN</td>\n",
       "    </tr>\n",
       "  </tbody>\n",
       "</table>\n",
       "</div>"
      ],
      "text/plain": [
       "           key      date      city  offense category   state  race   sex  \\\n",
       "0  16-X4472988  1/1/2016  portland  Assault Offenses  oregon  None  None   \n",
       "1  16-X4473035  1/1/2016  portland  Assault Offenses  oregon  None  None   \n",
       "2  16-X4473043  1/1/2016  portland  Assault Offenses  oregon  None  None   \n",
       "3  16-X4473057  1/1/2016  portland  Assault Offenses  oregon  None  None   \n",
       "4  16-X4473081  1/1/2016  portland  Assault Offenses  oregon  None  None   \n",
       "\n",
       "  age_group zipcode  geo_x  geo_y  \n",
       "0      None    None    NaN    NaN  \n",
       "1      None    None    NaN    NaN  \n",
       "2      None    None    NaN    NaN  \n",
       "3      None    None    NaN    NaN  \n",
       "4      None    None    NaN    NaN  "
      ]
     },
     "execution_count": 10,
     "metadata": {},
     "output_type": "execute_result"
    }
   ],
   "source": [
    "data[0].head()"
   ]
  },
  {
   "cell_type": "code",
   "execution_count": 11,
   "metadata": {},
   "outputs": [
    {
     "data": {
      "text/html": [
       "<div>\n",
       "<style scoped>\n",
       "    .dataframe tbody tr th:only-of-type {\n",
       "        vertical-align: middle;\n",
       "    }\n",
       "\n",
       "    .dataframe tbody tr th {\n",
       "        vertical-align: top;\n",
       "    }\n",
       "\n",
       "    .dataframe thead th {\n",
       "        text-align: right;\n",
       "    }\n",
       "</style>\n",
       "<table border=\"1\" class=\"dataframe\">\n",
       "  <thead>\n",
       "    <tr style=\"text-align: right;\">\n",
       "      <th></th>\n",
       "      <th>key</th>\n",
       "      <th>date</th>\n",
       "      <th>city</th>\n",
       "      <th>offense category</th>\n",
       "      <th>state</th>\n",
       "      <th>race</th>\n",
       "      <th>sex</th>\n",
       "      <th>age_group</th>\n",
       "      <th>zipcode</th>\n",
       "      <th>geo_x</th>\n",
       "      <th>geo_y</th>\n",
       "    </tr>\n",
       "  </thead>\n",
       "  <tbody>\n",
       "    <tr>\n",
       "      <th>0</th>\n",
       "      <td>5805106</td>\n",
       "      <td>11/21/2019</td>\n",
       "      <td>los angeles</td>\n",
       "      <td>None</td>\n",
       "      <td>california</td>\n",
       "      <td>None</td>\n",
       "      <td>M</td>\n",
       "      <td>None</td>\n",
       "      <td>None</td>\n",
       "      <td>None</td>\n",
       "      <td>None</td>\n",
       "    </tr>\n",
       "    <tr>\n",
       "      <th>1</th>\n",
       "      <td>190127182</td>\n",
       "      <td>10/03/2019</td>\n",
       "      <td>los angeles</td>\n",
       "      <td>None</td>\n",
       "      <td>california</td>\n",
       "      <td>None</td>\n",
       "      <td>M</td>\n",
       "      <td>None</td>\n",
       "      <td>None</td>\n",
       "      <td>None</td>\n",
       "      <td>None</td>\n",
       "    </tr>\n",
       "    <tr>\n",
       "      <th>2</th>\n",
       "      <td>191119468</td>\n",
       "      <td>11/13/2019</td>\n",
       "      <td>los angeles</td>\n",
       "      <td>None</td>\n",
       "      <td>california</td>\n",
       "      <td>None</td>\n",
       "      <td>F</td>\n",
       "      <td>None</td>\n",
       "      <td>None</td>\n",
       "      <td>None</td>\n",
       "      <td>None</td>\n",
       "    </tr>\n",
       "    <tr>\n",
       "      <th>3</th>\n",
       "      <td>4265695</td>\n",
       "      <td>03/11/2015</td>\n",
       "      <td>los angeles</td>\n",
       "      <td>None</td>\n",
       "      <td>california</td>\n",
       "      <td>None</td>\n",
       "      <td>F</td>\n",
       "      <td>None</td>\n",
       "      <td>None</td>\n",
       "      <td>None</td>\n",
       "      <td>None</td>\n",
       "    </tr>\n",
       "    <tr>\n",
       "      <th>4</th>\n",
       "      <td>4280871</td>\n",
       "      <td>03/26/2015</td>\n",
       "      <td>los angeles</td>\n",
       "      <td>None</td>\n",
       "      <td>california</td>\n",
       "      <td>None</td>\n",
       "      <td>M</td>\n",
       "      <td>None</td>\n",
       "      <td>None</td>\n",
       "      <td>None</td>\n",
       "      <td>None</td>\n",
       "    </tr>\n",
       "    <tr>\n",
       "      <th>...</th>\n",
       "      <td>...</td>\n",
       "      <td>...</td>\n",
       "      <td>...</td>\n",
       "      <td>...</td>\n",
       "      <td>...</td>\n",
       "      <td>...</td>\n",
       "      <td>...</td>\n",
       "      <td>...</td>\n",
       "      <td>...</td>\n",
       "      <td>...</td>\n",
       "      <td>...</td>\n",
       "    </tr>\n",
       "    <tr>\n",
       "      <th>1329876</th>\n",
       "      <td>5612854</td>\n",
       "      <td>04/27/2019</td>\n",
       "      <td>los angeles</td>\n",
       "      <td>None</td>\n",
       "      <td>california</td>\n",
       "      <td>None</td>\n",
       "      <td>M</td>\n",
       "      <td>None</td>\n",
       "      <td>None</td>\n",
       "      <td>None</td>\n",
       "      <td>None</td>\n",
       "    </tr>\n",
       "    <tr>\n",
       "      <th>1329877</th>\n",
       "      <td>5612737</td>\n",
       "      <td>04/27/2019</td>\n",
       "      <td>los angeles</td>\n",
       "      <td>None</td>\n",
       "      <td>california</td>\n",
       "      <td>None</td>\n",
       "      <td>F</td>\n",
       "      <td>None</td>\n",
       "      <td>None</td>\n",
       "      <td>None</td>\n",
       "      <td>None</td>\n",
       "    </tr>\n",
       "    <tr>\n",
       "      <th>1329878</th>\n",
       "      <td>5612654</td>\n",
       "      <td>04/27/2019</td>\n",
       "      <td>los angeles</td>\n",
       "      <td>None</td>\n",
       "      <td>california</td>\n",
       "      <td>None</td>\n",
       "      <td>F</td>\n",
       "      <td>None</td>\n",
       "      <td>None</td>\n",
       "      <td>None</td>\n",
       "      <td>None</td>\n",
       "    </tr>\n",
       "    <tr>\n",
       "      <th>1329879</th>\n",
       "      <td>5612759</td>\n",
       "      <td>04/27/2019</td>\n",
       "      <td>los angeles</td>\n",
       "      <td>None</td>\n",
       "      <td>california</td>\n",
       "      <td>None</td>\n",
       "      <td>M</td>\n",
       "      <td>None</td>\n",
       "      <td>None</td>\n",
       "      <td>None</td>\n",
       "      <td>None</td>\n",
       "    </tr>\n",
       "    <tr>\n",
       "      <th>1329880</th>\n",
       "      <td>5612691</td>\n",
       "      <td>04/27/2019</td>\n",
       "      <td>los angeles</td>\n",
       "      <td>None</td>\n",
       "      <td>california</td>\n",
       "      <td>None</td>\n",
       "      <td>F</td>\n",
       "      <td>None</td>\n",
       "      <td>None</td>\n",
       "      <td>None</td>\n",
       "      <td>None</td>\n",
       "    </tr>\n",
       "  </tbody>\n",
       "</table>\n",
       "<p>1329881 rows × 11 columns</p>\n",
       "</div>"
      ],
      "text/plain": [
       "               key        date         city offense category       state  \\\n",
       "0          5805106  11/21/2019  los angeles             None  california   \n",
       "1        190127182  10/03/2019  los angeles             None  california   \n",
       "2        191119468  11/13/2019  los angeles             None  california   \n",
       "3          4265695  03/11/2015  los angeles             None  california   \n",
       "4          4280871  03/26/2015  los angeles             None  california   \n",
       "...            ...         ...          ...              ...         ...   \n",
       "1329876    5612854  04/27/2019  los angeles             None  california   \n",
       "1329877    5612737  04/27/2019  los angeles             None  california   \n",
       "1329878    5612654  04/27/2019  los angeles             None  california   \n",
       "1329879    5612759  04/27/2019  los angeles             None  california   \n",
       "1329880    5612691  04/27/2019  los angeles             None  california   \n",
       "\n",
       "         race sex age_group zipcode geo_x geo_y  \n",
       "0        None   M      None    None  None  None  \n",
       "1        None   M      None    None  None  None  \n",
       "2        None   F      None    None  None  None  \n",
       "3        None   F      None    None  None  None  \n",
       "4        None   M      None    None  None  None  \n",
       "...       ...  ..       ...     ...   ...   ...  \n",
       "1329876  None   M      None    None  None  None  \n",
       "1329877  None   F      None    None  None  None  \n",
       "1329878  None   F      None    None  None  None  \n",
       "1329879  None   M      None    None  None  None  \n",
       "1329880  None   F      None    None  None  None  \n",
       "\n",
       "[1329881 rows x 11 columns]"
      ]
     },
     "execution_count": 11,
     "metadata": {},
     "output_type": "execute_result"
    }
   ],
   "source": [
    "los_angeles[schema_columns]"
   ]
  },
  {
   "cell_type": "code",
   "execution_count": 12,
   "metadata": {},
   "outputs": [],
   "source": [
    "main_master = None"
   ]
  },
  {
   "cell_type": "code",
   "execution_count": 13,
   "metadata": {},
   "outputs": [],
   "source": [
    "for d in data:\n",
    "    if main_master is None:\n",
    "        main_master = d\n",
    "    else:\n",
    "        main_master = pd.concat([main_master,d])"
   ]
  },
  {
   "cell_type": "code",
   "execution_count": 14,
   "metadata": {},
   "outputs": [
    {
     "data": {
      "text/plain": [
       "(20275528, 11)"
      ]
     },
     "execution_count": 14,
     "metadata": {},
     "output_type": "execute_result"
    }
   ],
   "source": [
    "main_master.shape"
   ]
  },
  {
   "cell_type": "code",
   "execution_count": null,
   "metadata": {},
   "outputs": [],
   "source": []
  },
  {
   "cell_type": "code",
   "execution_count": 15,
   "metadata": {},
   "outputs": [],
   "source": [
    "#main_master = pd.read_csv(\"~/data/master_crime.csv\")"
   ]
  },
  {
   "cell_type": "code",
   "execution_count": 16,
   "metadata": {},
   "outputs": [
    {
     "data": {
      "text/plain": [
       "Index(['key', 'date', 'city', 'offense category', 'state', 'race', 'sex',\n",
       "       'age_group', 'zipcode', 'geo_x', 'geo_y'],\n",
       "      dtype='object')"
      ]
     },
     "execution_count": 16,
     "metadata": {},
     "output_type": "execute_result"
    }
   ],
   "source": [
    "main_master.columns"
   ]
  },
  {
   "cell_type": "code",
   "execution_count": 17,
   "metadata": {},
   "outputs": [
    {
     "data": {
      "text/html": [
       "<div>\n",
       "<style scoped>\n",
       "    .dataframe tbody tr th:only-of-type {\n",
       "        vertical-align: middle;\n",
       "    }\n",
       "\n",
       "    .dataframe tbody tr th {\n",
       "        vertical-align: top;\n",
       "    }\n",
       "\n",
       "    .dataframe thead th {\n",
       "        text-align: right;\n",
       "    }\n",
       "</style>\n",
       "<table border=\"1\" class=\"dataframe\">\n",
       "  <thead>\n",
       "    <tr style=\"text-align: right;\">\n",
       "      <th></th>\n",
       "      <th>key</th>\n",
       "      <th>date</th>\n",
       "      <th>city</th>\n",
       "      <th>offense category</th>\n",
       "      <th>state</th>\n",
       "      <th>race</th>\n",
       "      <th>sex</th>\n",
       "      <th>age_group</th>\n",
       "      <th>zipcode</th>\n",
       "      <th>geo_x</th>\n",
       "      <th>geo_y</th>\n",
       "    </tr>\n",
       "  </thead>\n",
       "  <tbody>\n",
       "    <tr>\n",
       "      <th>0</th>\n",
       "      <td>16-X4472988</td>\n",
       "      <td>1/1/2016</td>\n",
       "      <td>portland</td>\n",
       "      <td>Assault Offenses</td>\n",
       "      <td>oregon</td>\n",
       "      <td>None</td>\n",
       "      <td>None</td>\n",
       "      <td>None</td>\n",
       "      <td>None</td>\n",
       "      <td>NaN</td>\n",
       "      <td>NaN</td>\n",
       "    </tr>\n",
       "    <tr>\n",
       "      <th>1</th>\n",
       "      <td>16-X4473035</td>\n",
       "      <td>1/1/2016</td>\n",
       "      <td>portland</td>\n",
       "      <td>Assault Offenses</td>\n",
       "      <td>oregon</td>\n",
       "      <td>None</td>\n",
       "      <td>None</td>\n",
       "      <td>None</td>\n",
       "      <td>None</td>\n",
       "      <td>NaN</td>\n",
       "      <td>NaN</td>\n",
       "    </tr>\n",
       "    <tr>\n",
       "      <th>2</th>\n",
       "      <td>16-X4473043</td>\n",
       "      <td>1/1/2016</td>\n",
       "      <td>portland</td>\n",
       "      <td>Assault Offenses</td>\n",
       "      <td>oregon</td>\n",
       "      <td>None</td>\n",
       "      <td>None</td>\n",
       "      <td>None</td>\n",
       "      <td>None</td>\n",
       "      <td>NaN</td>\n",
       "      <td>NaN</td>\n",
       "    </tr>\n",
       "    <tr>\n",
       "      <th>3</th>\n",
       "      <td>16-X4473057</td>\n",
       "      <td>1/1/2016</td>\n",
       "      <td>portland</td>\n",
       "      <td>Assault Offenses</td>\n",
       "      <td>oregon</td>\n",
       "      <td>None</td>\n",
       "      <td>None</td>\n",
       "      <td>None</td>\n",
       "      <td>None</td>\n",
       "      <td>NaN</td>\n",
       "      <td>NaN</td>\n",
       "    </tr>\n",
       "    <tr>\n",
       "      <th>4</th>\n",
       "      <td>16-X4473081</td>\n",
       "      <td>1/1/2016</td>\n",
       "      <td>portland</td>\n",
       "      <td>Assault Offenses</td>\n",
       "      <td>oregon</td>\n",
       "      <td>None</td>\n",
       "      <td>None</td>\n",
       "      <td>None</td>\n",
       "      <td>None</td>\n",
       "      <td>NaN</td>\n",
       "      <td>NaN</td>\n",
       "    </tr>\n",
       "  </tbody>\n",
       "</table>\n",
       "</div>"
      ],
      "text/plain": [
       "           key      date      city  offense category   state  race   sex  \\\n",
       "0  16-X4472988  1/1/2016  portland  Assault Offenses  oregon  None  None   \n",
       "1  16-X4473035  1/1/2016  portland  Assault Offenses  oregon  None  None   \n",
       "2  16-X4473043  1/1/2016  portland  Assault Offenses  oregon  None  None   \n",
       "3  16-X4473057  1/1/2016  portland  Assault Offenses  oregon  None  None   \n",
       "4  16-X4473081  1/1/2016  portland  Assault Offenses  oregon  None  None   \n",
       "\n",
       "  age_group zipcode geo_x geo_y  \n",
       "0      None    None   NaN   NaN  \n",
       "1      None    None   NaN   NaN  \n",
       "2      None    None   NaN   NaN  \n",
       "3      None    None   NaN   NaN  \n",
       "4      None    None   NaN   NaN  "
      ]
     },
     "execution_count": 17,
     "metadata": {},
     "output_type": "execute_result"
    }
   ],
   "source": [
    "main_master.head()"
   ]
  },
  {
   "cell_type": "code",
   "execution_count": 18,
   "metadata": {},
   "outputs": [
    {
     "data": {
      "text/plain": [
       "chicago        7084356\n",
       "san jose       5308430\n",
       "new_york       4792747\n",
       "los angeles    1329881\n",
       "san diego       500332\n",
       "denver          472786\n",
       "phoenix         284631\n",
       "portland        268397\n",
       "DC              153687\n",
       "fortsworth       80281\n",
       "Name: city, dtype: int64"
      ]
     },
     "execution_count": 18,
     "metadata": {},
     "output_type": "execute_result"
    }
   ],
   "source": [
    "main_master.city.value_counts()"
   ]
  },
  {
   "cell_type": "code",
   "execution_count": 19,
   "metadata": {},
   "outputs": [
    {
     "data": {
      "text/plain": [
       "california    7138643\n",
       "illinios      7084356\n",
       "new_york      4792747\n",
       "colorado       472786\n",
       "arizona        284631\n",
       "oregon         268397\n",
       "washington     153687\n",
       "texas           80281\n",
       "Name: state, dtype: int64"
      ]
     },
     "execution_count": 19,
     "metadata": {},
     "output_type": "execute_result"
    }
   ],
   "source": [
    "main_master.state.value_counts()"
   ]
  },
  {
   "cell_type": "code",
   "execution_count": 20,
   "metadata": {},
   "outputs": [
    {
     "data": {
      "text/plain": [
       "(0, 11)"
      ]
     },
     "execution_count": 20,
     "metadata": {},
     "output_type": "execute_result"
    }
   ],
   "source": [
    "main_master[main_master.state.isnull()].shape"
   ]
  },
  {
   "cell_type": "code",
   "execution_count": 63,
   "metadata": {},
   "outputs": [
    {
     "data": {
      "text/plain": [
       "(0, 11)"
      ]
     },
     "execution_count": 63,
     "metadata": {},
     "output_type": "execute_result"
    }
   ],
   "source": [
    "main_master[main_master.city.isnull()].shape"
   ]
  },
  {
   "cell_type": "code",
   "execution_count": 21,
   "metadata": {},
   "outputs": [
    {
     "name": "stdout",
     "output_type": "stream",
     "text": [
      "Index(['key', 'date', 'city', 'offense category', 'state', 'race', 'sex',\n",
      "       'age_group', 'zipcode', 'geo_x', 'geo_y'],\n",
      "      dtype='object')\n",
      "Index(['key', 'date', 'city', 'offense category', 'state', 'race', 'sex',\n",
      "       'age_group', 'zipcode', 'geo_x', 'geo_y'],\n",
      "      dtype='object')\n",
      "Index(['key', 'date', 'city', 'offense category', 'state', 'race', 'sex',\n",
      "       'age_group', 'zipcode', 'geo_x', 'geo_y'],\n",
      "      dtype='object')\n",
      "Index(['key', 'date', 'city', 'offense category', 'state', 'race', 'sex',\n",
      "       'age_group', 'zipcode', 'geo_x', 'geo_y'],\n",
      "      dtype='object')\n",
      "Index(['key', 'date', 'city', 'offense category', 'state', 'race', 'sex',\n",
      "       'age_group', 'zipcode', 'geo_x', 'geo_y'],\n",
      "      dtype='object')\n",
      "Index(['key', 'date', 'city', 'offense category', 'state', 'race', 'sex',\n",
      "       'age_group', 'zipcode', 'geo_x', 'geo_y'],\n",
      "      dtype='object')\n",
      "Index(['key', 'date', 'city', 'offense category', 'state', 'race', 'sex',\n",
      "       'age_group', 'zipcode', 'geo_x', 'geo_y'],\n",
      "      dtype='object')\n",
      "Index(['key', 'date', 'city', 'offense category', 'state', 'race', 'sex',\n",
      "       'age_group', 'zipcode', 'geo_x', 'geo_y'],\n",
      "      dtype='object')\n",
      "Index(['key', 'date', 'city', 'offense category', 'state', 'race', 'sex',\n",
      "       'age_group', 'zipcode', 'geo_x', 'geo_y'],\n",
      "      dtype='object')\n",
      "Index(['key', 'date', 'city', 'offense category', 'state', 'race', 'sex',\n",
      "       'age_group', 'zipcode', 'geo_x', 'geo_y'],\n",
      "      dtype='object')\n"
     ]
    }
   ],
   "source": [
    "for d in data:\n",
    "    print(d.columns)"
   ]
  },
  {
   "cell_type": "code",
   "execution_count": 22,
   "metadata": {},
   "outputs": [
    {
     "data": {
      "text/plain": [
       "10"
      ]
     },
     "execution_count": 22,
     "metadata": {},
     "output_type": "execute_result"
    }
   ],
   "source": [
    "len(data)"
   ]
  },
  {
   "cell_type": "code",
   "execution_count": 23,
   "metadata": {},
   "outputs": [],
   "source": [
    "main_master.to_csv('~/data/master_crime.csv',index = False)"
   ]
  },
  {
   "cell_type": "code",
   "execution_count": 24,
   "metadata": {},
   "outputs": [
    {
     "data": {
      "text/plain": [
       "key                 object\n",
       "date                object\n",
       "city                object\n",
       "offense category    object\n",
       "state               object\n",
       "race                object\n",
       "sex                 object\n",
       "age_group           object\n",
       "zipcode             object\n",
       "geo_x               object\n",
       "geo_y               object\n",
       "dtype: object"
      ]
     },
     "execution_count": 24,
     "metadata": {},
     "output_type": "execute_result"
    }
   ],
   "source": [
    "main_master.dtypes"
   ]
  },
  {
   "cell_type": "code",
   "execution_count": 25,
   "metadata": {},
   "outputs": [],
   "source": [
    "main_master= main_master.rename({'offense category':\"offense_category\"},axis = 1)"
   ]
  },
  {
   "cell_type": "code",
   "execution_count": 26,
   "metadata": {},
   "outputs": [
    {
     "data": {
      "text/plain": [
       "Index(['key', 'date', 'city', 'offense_category', 'state', 'race', 'sex',\n",
       "       'age_group', 'zipcode', 'geo_x', 'geo_y'],\n",
       "      dtype='object')"
      ]
     },
     "execution_count": 26,
     "metadata": {},
     "output_type": "execute_result"
    }
   ],
   "source": [
    "main_master.columns"
   ]
  },
  {
   "cell_type": "code",
   "execution_count": 27,
   "metadata": {},
   "outputs": [],
   "source": [
    "main_master= main_master.rename({'key':\"id\"},axis = 1)"
   ]
  },
  {
   "cell_type": "code",
   "execution_count": 28,
   "metadata": {},
   "outputs": [
    {
     "data": {
      "text/plain": [
       "Index(['id', 'date', 'city', 'offense_category', 'state', 'race', 'sex',\n",
       "       'age_group', 'zipcode', 'geo_x', 'geo_y'],\n",
       "      dtype='object')"
      ]
     },
     "execution_count": 28,
     "metadata": {},
     "output_type": "execute_result"
    }
   ],
   "source": [
    "main_master.columns"
   ]
  },
  {
   "cell_type": "code",
   "execution_count": 29,
   "metadata": {},
   "outputs": [],
   "source": [
    "for col in main_master.columns:\n",
    "    main_master[col] = main_master[col].apply(lambda x:str(x)) "
   ]
  },
  {
   "cell_type": "code",
   "execution_count": 30,
   "metadata": {},
   "outputs": [
    {
     "data": {
      "text/html": [
       "<div>\n",
       "<style scoped>\n",
       "    .dataframe tbody tr th:only-of-type {\n",
       "        vertical-align: middle;\n",
       "    }\n",
       "\n",
       "    .dataframe tbody tr th {\n",
       "        vertical-align: top;\n",
       "    }\n",
       "\n",
       "    .dataframe thead th {\n",
       "        text-align: right;\n",
       "    }\n",
       "</style>\n",
       "<table border=\"1\" class=\"dataframe\">\n",
       "  <thead>\n",
       "    <tr style=\"text-align: right;\">\n",
       "      <th></th>\n",
       "      <th>id</th>\n",
       "      <th>date</th>\n",
       "      <th>city</th>\n",
       "      <th>offense_category</th>\n",
       "      <th>state</th>\n",
       "      <th>race</th>\n",
       "      <th>sex</th>\n",
       "      <th>age_group</th>\n",
       "      <th>zipcode</th>\n",
       "      <th>geo_x</th>\n",
       "      <th>geo_y</th>\n",
       "    </tr>\n",
       "  </thead>\n",
       "  <tbody>\n",
       "    <tr>\n",
       "      <th>0</th>\n",
       "      <td>16-X4472988</td>\n",
       "      <td>1/1/2016</td>\n",
       "      <td>portland</td>\n",
       "      <td>Assault Offenses</td>\n",
       "      <td>oregon</td>\n",
       "      <td>None</td>\n",
       "      <td>None</td>\n",
       "      <td>None</td>\n",
       "      <td>None</td>\n",
       "      <td>nan</td>\n",
       "      <td>nan</td>\n",
       "    </tr>\n",
       "    <tr>\n",
       "      <th>1</th>\n",
       "      <td>16-X4473035</td>\n",
       "      <td>1/1/2016</td>\n",
       "      <td>portland</td>\n",
       "      <td>Assault Offenses</td>\n",
       "      <td>oregon</td>\n",
       "      <td>None</td>\n",
       "      <td>None</td>\n",
       "      <td>None</td>\n",
       "      <td>None</td>\n",
       "      <td>nan</td>\n",
       "      <td>nan</td>\n",
       "    </tr>\n",
       "    <tr>\n",
       "      <th>2</th>\n",
       "      <td>16-X4473043</td>\n",
       "      <td>1/1/2016</td>\n",
       "      <td>portland</td>\n",
       "      <td>Assault Offenses</td>\n",
       "      <td>oregon</td>\n",
       "      <td>None</td>\n",
       "      <td>None</td>\n",
       "      <td>None</td>\n",
       "      <td>None</td>\n",
       "      <td>nan</td>\n",
       "      <td>nan</td>\n",
       "    </tr>\n",
       "    <tr>\n",
       "      <th>3</th>\n",
       "      <td>16-X4473057</td>\n",
       "      <td>1/1/2016</td>\n",
       "      <td>portland</td>\n",
       "      <td>Assault Offenses</td>\n",
       "      <td>oregon</td>\n",
       "      <td>None</td>\n",
       "      <td>None</td>\n",
       "      <td>None</td>\n",
       "      <td>None</td>\n",
       "      <td>nan</td>\n",
       "      <td>nan</td>\n",
       "    </tr>\n",
       "    <tr>\n",
       "      <th>4</th>\n",
       "      <td>16-X4473081</td>\n",
       "      <td>1/1/2016</td>\n",
       "      <td>portland</td>\n",
       "      <td>Assault Offenses</td>\n",
       "      <td>oregon</td>\n",
       "      <td>None</td>\n",
       "      <td>None</td>\n",
       "      <td>None</td>\n",
       "      <td>None</td>\n",
       "      <td>nan</td>\n",
       "      <td>nan</td>\n",
       "    </tr>\n",
       "  </tbody>\n",
       "</table>\n",
       "</div>"
      ],
      "text/plain": [
       "            id      date      city  offense_category   state  race   sex  \\\n",
       "0  16-X4472988  1/1/2016  portland  Assault Offenses  oregon  None  None   \n",
       "1  16-X4473035  1/1/2016  portland  Assault Offenses  oregon  None  None   \n",
       "2  16-X4473043  1/1/2016  portland  Assault Offenses  oregon  None  None   \n",
       "3  16-X4473057  1/1/2016  portland  Assault Offenses  oregon  None  None   \n",
       "4  16-X4473081  1/1/2016  portland  Assault Offenses  oregon  None  None   \n",
       "\n",
       "  age_group zipcode geo_x geo_y  \n",
       "0      None    None   nan   nan  \n",
       "1      None    None   nan   nan  \n",
       "2      None    None   nan   nan  \n",
       "3      None    None   nan   nan  \n",
       "4      None    None   nan   nan  "
      ]
     },
     "execution_count": 30,
     "metadata": {},
     "output_type": "execute_result"
    }
   ],
   "source": [
    "main_master.head()"
   ]
  },
  {
   "cell_type": "code",
   "execution_count": 44,
   "metadata": {},
   "outputs": [
    {
     "data": {
      "text/html": [
       "<div>\n",
       "<style scoped>\n",
       "    .dataframe tbody tr th:only-of-type {\n",
       "        vertical-align: middle;\n",
       "    }\n",
       "\n",
       "    .dataframe tbody tr th {\n",
       "        vertical-align: top;\n",
       "    }\n",
       "\n",
       "    .dataframe thead th {\n",
       "        text-align: right;\n",
       "    }\n",
       "</style>\n",
       "<table border=\"1\" class=\"dataframe\">\n",
       "  <thead>\n",
       "    <tr style=\"text-align: right;\">\n",
       "      <th></th>\n",
       "      <th>id</th>\n",
       "      <th>date</th>\n",
       "      <th>city</th>\n",
       "      <th>state</th>\n",
       "      <th>race</th>\n",
       "      <th>sex</th>\n",
       "      <th>age_group</th>\n",
       "      <th>zipcode</th>\n",
       "      <th>geo_x</th>\n",
       "      <th>geo_y</th>\n",
       "    </tr>\n",
       "  </thead>\n",
       "  <tbody>\n",
       "    <tr>\n",
       "      <th>0</th>\n",
       "      <td>173130602</td>\n",
       "      <td>12/31/2017</td>\n",
       "      <td>new_york</td>\n",
       "      <td>new_york</td>\n",
       "      <td>BLACK</td>\n",
       "      <td>M</td>\n",
       "      <td>25-44</td>\n",
       "      <td>11426.0</td>\n",
       "      <td>1063056.0</td>\n",
       "      <td>207463.0</td>\n",
       "    </tr>\n",
       "    <tr>\n",
       "      <th>1</th>\n",
       "      <td>173114463</td>\n",
       "      <td>12/31/2017</td>\n",
       "      <td>new_york</td>\n",
       "      <td>new_york</td>\n",
       "      <td>ASIAN / PACIFIC ISLANDER</td>\n",
       "      <td>M</td>\n",
       "      <td>25-44</td>\n",
       "      <td>11105.0</td>\n",
       "      <td>1009113.0</td>\n",
       "      <td>219613.0</td>\n",
       "    </tr>\n",
       "    <tr>\n",
       "      <th>2</th>\n",
       "      <td>173113513</td>\n",
       "      <td>12/31/2017</td>\n",
       "      <td>new_york</td>\n",
       "      <td>new_york</td>\n",
       "      <td>BLACK</td>\n",
       "      <td>M</td>\n",
       "      <td>18-24</td>\n",
       "      <td>11207.0</td>\n",
       "      <td>1010719.0</td>\n",
       "      <td>186857.0</td>\n",
       "    </tr>\n",
       "    <tr>\n",
       "      <th>3</th>\n",
       "      <td>173113423</td>\n",
       "      <td>12/31/2017</td>\n",
       "      <td>new_york</td>\n",
       "      <td>new_york</td>\n",
       "      <td>WHITE</td>\n",
       "      <td>M</td>\n",
       "      <td>25-44</td>\n",
       "      <td>10019.0</td>\n",
       "      <td>987831.0</td>\n",
       "      <td>217446.0</td>\n",
       "    </tr>\n",
       "    <tr>\n",
       "      <th>4</th>\n",
       "      <td>173113421</td>\n",
       "      <td>12/31/2017</td>\n",
       "      <td>new_york</td>\n",
       "      <td>new_york</td>\n",
       "      <td>BLACK</td>\n",
       "      <td>M</td>\n",
       "      <td>45-64</td>\n",
       "      <td>10036.0</td>\n",
       "      <td>987073.0</td>\n",
       "      <td>216078.0</td>\n",
       "    </tr>\n",
       "  </tbody>\n",
       "</table>\n",
       "</div>"
      ],
      "text/plain": [
       "          id        date      city     state                      race sex  \\\n",
       "0  173130602  12/31/2017  new_york  new_york                     BLACK   M   \n",
       "1  173114463  12/31/2017  new_york  new_york  ASIAN / PACIFIC ISLANDER   M   \n",
       "2  173113513  12/31/2017  new_york  new_york                     BLACK   M   \n",
       "3  173113423  12/31/2017  new_york  new_york                     WHITE   M   \n",
       "4  173113421  12/31/2017  new_york  new_york                     BLACK   M   \n",
       "\n",
       "  age_group  zipcode      geo_x     geo_y  \n",
       "0     25-44  11426.0  1063056.0  207463.0  \n",
       "1     25-44  11105.0  1009113.0  219613.0  \n",
       "2     18-24  11207.0  1010719.0  186857.0  \n",
       "3     25-44  10019.0   987831.0  217446.0  \n",
       "4     45-64  10036.0   987073.0  216078.0  "
      ]
     },
     "execution_count": 44,
     "metadata": {},
     "output_type": "execute_result"
    }
   ],
   "source": [
    "main_master[main_master.state == \"new_york\"].head()"
   ]
  },
  {
   "cell_type": "code",
   "execution_count": 38,
   "metadata": {},
   "outputs": [],
   "source": [
    "main_master.offense_category = main_master.offense_category.apply(lambda x: x.replace(\",\",\"\"))"
   ]
  },
  {
   "cell_type": "code",
   "execution_count": 34,
   "metadata": {},
   "outputs": [
    {
     "data": {
      "text/plain": [
       "id                              1044984\n",
       "date                2014-01-01 13:40:00\n",
       "city                          san diego\n",
       "offense_category       Moving Violation\n",
       "state                        california\n",
       "race                                  W\n",
       "sex                                   M\n",
       "age_group                            50\n",
       "zipcode                            None\n",
       "geo_x                               nan\n",
       "geo_y                               nan\n",
       "Name: 13, dtype: object"
      ]
     },
     "execution_count": 34,
     "metadata": {},
     "output_type": "execute_result"
    }
   ],
   "source": [
    "main_master.iloc[5576840,:]"
   ]
  },
  {
   "cell_type": "code",
   "execution_count": 37,
   "metadata": {},
   "outputs": [
    {
     "data": {
      "text/plain": [
       "'hello'"
      ]
     },
     "execution_count": 37,
     "metadata": {},
     "output_type": "execute_result"
    }
   ],
   "source": [
    "\"hel,lo\".replace(\",\",\"\")"
   ]
  },
  {
   "cell_type": "code",
   "execution_count": 41,
   "metadata": {},
   "outputs": [
    {
     "data": {
      "text/plain": [
       "1329871    None\n",
       "1329872    None\n",
       "1329873    None\n",
       "1329874    None\n",
       "1329875    None\n",
       "1329876    None\n",
       "1329877    None\n",
       "1329878    None\n",
       "1329879    None\n",
       "1329880    None\n",
       "Name: offense_category, dtype: object"
      ]
     },
     "execution_count": 41,
     "metadata": {},
     "output_type": "execute_result"
    }
   ],
   "source": [
    "main_master.offense_category.tail(10)"
   ]
  },
  {
   "cell_type": "code",
   "execution_count": 42,
   "metadata": {},
   "outputs": [],
   "source": [
    "main_master = main_master.drop(columns=['offense_category'])"
   ]
  },
  {
   "cell_type": "code",
   "execution_count": 43,
   "metadata": {},
   "outputs": [
    {
     "data": {
      "text/html": [
       "<div>\n",
       "<style scoped>\n",
       "    .dataframe tbody tr th:only-of-type {\n",
       "        vertical-align: middle;\n",
       "    }\n",
       "\n",
       "    .dataframe tbody tr th {\n",
       "        vertical-align: top;\n",
       "    }\n",
       "\n",
       "    .dataframe thead th {\n",
       "        text-align: right;\n",
       "    }\n",
       "</style>\n",
       "<table border=\"1\" class=\"dataframe\">\n",
       "  <thead>\n",
       "    <tr style=\"text-align: right;\">\n",
       "      <th></th>\n",
       "      <th>id</th>\n",
       "      <th>date</th>\n",
       "      <th>city</th>\n",
       "      <th>state</th>\n",
       "      <th>race</th>\n",
       "      <th>sex</th>\n",
       "      <th>age_group</th>\n",
       "      <th>zipcode</th>\n",
       "      <th>geo_x</th>\n",
       "      <th>geo_y</th>\n",
       "    </tr>\n",
       "  </thead>\n",
       "  <tbody>\n",
       "    <tr>\n",
       "      <th>0</th>\n",
       "      <td>16-X4472988</td>\n",
       "      <td>1/1/2016</td>\n",
       "      <td>portland</td>\n",
       "      <td>oregon</td>\n",
       "      <td>None</td>\n",
       "      <td>None</td>\n",
       "      <td>None</td>\n",
       "      <td>None</td>\n",
       "      <td>nan</td>\n",
       "      <td>nan</td>\n",
       "    </tr>\n",
       "    <tr>\n",
       "      <th>1</th>\n",
       "      <td>16-X4473035</td>\n",
       "      <td>1/1/2016</td>\n",
       "      <td>portland</td>\n",
       "      <td>oregon</td>\n",
       "      <td>None</td>\n",
       "      <td>None</td>\n",
       "      <td>None</td>\n",
       "      <td>None</td>\n",
       "      <td>nan</td>\n",
       "      <td>nan</td>\n",
       "    </tr>\n",
       "    <tr>\n",
       "      <th>2</th>\n",
       "      <td>16-X4473043</td>\n",
       "      <td>1/1/2016</td>\n",
       "      <td>portland</td>\n",
       "      <td>oregon</td>\n",
       "      <td>None</td>\n",
       "      <td>None</td>\n",
       "      <td>None</td>\n",
       "      <td>None</td>\n",
       "      <td>nan</td>\n",
       "      <td>nan</td>\n",
       "    </tr>\n",
       "    <tr>\n",
       "      <th>3</th>\n",
       "      <td>16-X4473057</td>\n",
       "      <td>1/1/2016</td>\n",
       "      <td>portland</td>\n",
       "      <td>oregon</td>\n",
       "      <td>None</td>\n",
       "      <td>None</td>\n",
       "      <td>None</td>\n",
       "      <td>None</td>\n",
       "      <td>nan</td>\n",
       "      <td>nan</td>\n",
       "    </tr>\n",
       "    <tr>\n",
       "      <th>4</th>\n",
       "      <td>16-X4473081</td>\n",
       "      <td>1/1/2016</td>\n",
       "      <td>portland</td>\n",
       "      <td>oregon</td>\n",
       "      <td>None</td>\n",
       "      <td>None</td>\n",
       "      <td>None</td>\n",
       "      <td>None</td>\n",
       "      <td>nan</td>\n",
       "      <td>nan</td>\n",
       "    </tr>\n",
       "  </tbody>\n",
       "</table>\n",
       "</div>"
      ],
      "text/plain": [
       "            id      date      city   state  race   sex age_group zipcode  \\\n",
       "0  16-X4472988  1/1/2016  portland  oregon  None  None      None    None   \n",
       "1  16-X4473035  1/1/2016  portland  oregon  None  None      None    None   \n",
       "2  16-X4473043  1/1/2016  portland  oregon  None  None      None    None   \n",
       "3  16-X4473057  1/1/2016  portland  oregon  None  None      None    None   \n",
       "4  16-X4473081  1/1/2016  portland  oregon  None  None      None    None   \n",
       "\n",
       "  geo_x geo_y  \n",
       "0   nan   nan  \n",
       "1   nan   nan  \n",
       "2   nan   nan  \n",
       "3   nan   nan  \n",
       "4   nan   nan  "
      ]
     },
     "execution_count": 43,
     "metadata": {},
     "output_type": "execute_result"
    }
   ],
   "source": [
    "main_master.head()"
   ]
  },
  {
   "cell_type": "code",
   "execution_count": 46,
   "metadata": {},
   "outputs": [],
   "source": [
    "main_master.to_csv(\"~/data/master_crime.csv\",index = False)"
   ]
  },
  {
   "cell_type": "code",
   "execution_count": null,
   "metadata": {},
   "outputs": [],
   "source": []
  }
 ],
 "metadata": {
  "kernelspec": {
   "display_name": "Python 3",
   "language": "python",
   "name": "python3"
  },
  "language_info": {
   "codemirror_mode": {
    "name": "ipython",
    "version": 3
   },
   "file_extension": ".py",
   "mimetype": "text/x-python",
   "name": "python",
   "nbconvert_exporter": "python",
   "pygments_lexer": "ipython3",
   "version": "3.7.5"
  }
 },
 "nbformat": 4,
 "nbformat_minor": 2
}
