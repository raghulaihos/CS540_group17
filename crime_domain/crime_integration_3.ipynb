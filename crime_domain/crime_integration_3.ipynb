{
 "cells": [
  {
   "cell_type": "code",
   "execution_count": 1,
   "metadata": {},
   "outputs": [],
   "source": [
    "import pandas as pd\n",
    "import matplotlib.pyplot as plt\n",
    "import seaborn as sns"
   ]
  },
  {
   "cell_type": "code",
   "execution_count": 3,
   "metadata": {},
   "outputs": [
    {
     "name": "stderr",
     "output_type": "stream",
     "text": [
      "/home/bh_parijat/anaconda3/lib/python3.7/site-packages/IPython/core/interactiveshell.py:3020: DtypeWarning: Columns (0,3,5,6,7,8,9,10) have mixed types. Specify dtype option on import or set low_memory=False.\n",
      "  interactivity=interactivity, compiler=compiler, result=result)\n"
     ]
    }
   ],
   "source": [
    "master = pd.read_csv(\"master_crime.csv\")"
   ]
  },
  {
   "cell_type": "code",
   "execution_count": 4,
   "metadata": {},
   "outputs": [],
   "source": [
    "new_york = master[master.state == \"new_york\"]"
   ]
  },
  {
   "cell_type": "code",
   "execution_count": 5,
   "metadata": {},
   "outputs": [
    {
     "data": {
      "text/plain": [
       "M    3991234\n",
       "F     801513\n",
       "Name: sex, dtype: int64"
      ]
     },
     "execution_count": 5,
     "metadata": {},
     "output_type": "execute_result"
    }
   ],
   "source": [
    "new_york.sex.value_counts()"
   ]
  },
  {
   "cell_type": "code",
   "execution_count": 6,
   "metadata": {},
   "outputs": [
    {
     "data": {
      "text/plain": [
       "(4792747, 11)"
      ]
     },
     "execution_count": 6,
     "metadata": {},
     "output_type": "execute_result"
    }
   ],
   "source": [
    "new_york.shape"
   ]
  },
  {
   "cell_type": "code",
   "execution_count": 7,
   "metadata": {},
   "outputs": [
    {
     "data": {
      "text/plain": [
       "california    7138643\n",
       "illinios      7084356\n",
       "new_york      4792747\n",
       "colorado       472786\n",
       "arizona        284631\n",
       "oregon         268397\n",
       "washington     153687\n",
       "texas           80281\n",
       "Name: state, dtype: int64"
      ]
     },
     "execution_count": 7,
     "metadata": {},
     "output_type": "execute_result"
    }
   ],
   "source": [
    "master.state.value_counts()"
   ]
  },
  {
   "cell_type": "code",
   "execution_count": null,
   "metadata": {},
   "outputs": [],
   "source": []
  },
  {
   "cell_type": "code",
   "execution_count": 22,
   "metadata": {},
   "outputs": [],
   "source": [
    "#new_york = master[master.state == \"new_york\"]"
   ]
  },
  {
   "cell_type": "code",
   "execution_count": 8,
   "metadata": {},
   "outputs": [
    {
     "data": {
      "text/plain": [
       "25-44    2199595\n",
       "18-24    1272578\n",
       "45-64     879759\n",
       "<18       401649\n",
       "65+        38971\n",
       "          ...   \n",
       "918            1\n",
       "956            1\n",
       "352            1\n",
       "231            1\n",
       "1018           1\n",
       "Name: age_group, Length: 91, dtype: int64"
      ]
     },
     "execution_count": 8,
     "metadata": {},
     "output_type": "execute_result"
    }
   ],
   "source": [
    "new_york.age_group.value_counts()"
   ]
  },
  {
   "cell_type": "code",
   "execution_count": 9,
   "metadata": {},
   "outputs": [],
   "source": [
    "chicago = master[master.state == \"illinios\"]"
   ]
  },
  {
   "cell_type": "code",
   "execution_count": 10,
   "metadata": {},
   "outputs": [
    {
     "data": {
      "image/png": "[encoded data removed]",
      "text/plain": [
       "<Figure size 720x576 with 1 Axes>"
      ]
     },
     "metadata": {
      "needs_background": "light"
     },
     "output_type": "display_data"
    }
   ],
   "source": [
    "new_york_age = new_york.age_group.value_counts().sort_values(ascending = False)[:5]\n",
    "plt.figure(figsize=(10,8))\n",
    "sns.barplot(x=new_york_age.index, y = new_york_age )\n",
    "plt.title(\"Crime by Age Group in New York\")\n",
    "plt.xlabel(\"Age group\")\n",
    "plt.ylabel(\"Number of Arrests\")\n",
    "plt.savefig(\"images/new_york_age.jpg\")"
   ]
  },
  {
   "cell_type": "code",
   "execution_count": null,
   "metadata": {},
   "outputs": [],
   "source": []
  },
  {
   "cell_type": "code",
   "execution_count": 12,
   "metadata": {},
   "outputs": [
    {
     "data": {
      "text/html": [
       "<div>\n",
       "<style scoped>\n",
       "    .dataframe tbody tr th:only-of-type {\n",
       "        vertical-align: middle;\n",
       "    }\n",
       "\n",
       "    .dataframe tbody tr th {\n",
       "        vertical-align: top;\n",
       "    }\n",
       "\n",
       "    .dataframe thead th {\n",
       "        text-align: right;\n",
       "    }\n",
       "</style>\n",
       "<table border=\"1\" class=\"dataframe\">\n",
       "  <thead>\n",
       "    <tr style=\"text-align: right;\">\n",
       "      <th></th>\n",
       "      <th>key</th>\n",
       "      <th>date</th>\n",
       "      <th>city</th>\n",
       "      <th>offense category</th>\n",
       "      <th>state</th>\n",
       "      <th>race</th>\n",
       "      <th>sex</th>\n",
       "      <th>age_group</th>\n",
       "      <th>zipcode</th>\n",
       "      <th>geo_x</th>\n",
       "      <th>geo_y</th>\n",
       "    </tr>\n",
       "  </thead>\n",
       "  <tbody>\n",
       "    <tr>\n",
       "      <th>11781010</th>\n",
       "      <td>11034701</td>\n",
       "      <td>01/01/2001 11:00:00 AM</td>\n",
       "      <td>chicago</td>\n",
       "      <td>FINANCIAL IDENTITY THEFT OVER $ 300</td>\n",
       "      <td>illinios</td>\n",
       "      <td>NaN</td>\n",
       "      <td>NaN</td>\n",
       "      <td>NaN</td>\n",
       "      <td>NaN</td>\n",
       "      <td>NaN</td>\n",
       "      <td>NaN</td>\n",
       "    </tr>\n",
       "    <tr>\n",
       "      <th>11781011</th>\n",
       "      <td>11227287</td>\n",
       "      <td>10/08/2017 03:00:00 AM</td>\n",
       "      <td>chicago</td>\n",
       "      <td>NON-AGGRAVATED</td>\n",
       "      <td>illinios</td>\n",
       "      <td>NaN</td>\n",
       "      <td>NaN</td>\n",
       "      <td>NaN</td>\n",
       "      <td>NaN</td>\n",
       "      <td>NaN</td>\n",
       "      <td>NaN</td>\n",
       "    </tr>\n",
       "    <tr>\n",
       "      <th>11781012</th>\n",
       "      <td>11227583</td>\n",
       "      <td>03/28/2017 02:00:00 PM</td>\n",
       "      <td>chicago</td>\n",
       "      <td>UNLAWFUL ENTRY</td>\n",
       "      <td>illinios</td>\n",
       "      <td>NaN</td>\n",
       "      <td>NaN</td>\n",
       "      <td>NaN</td>\n",
       "      <td>NaN</td>\n",
       "      <td>NaN</td>\n",
       "      <td>NaN</td>\n",
       "    </tr>\n",
       "    <tr>\n",
       "      <th>11781013</th>\n",
       "      <td>11227293</td>\n",
       "      <td>09/09/2017 08:17:00 PM</td>\n",
       "      <td>chicago</td>\n",
       "      <td>OVER $500</td>\n",
       "      <td>illinios</td>\n",
       "      <td>NaN</td>\n",
       "      <td>NaN</td>\n",
       "      <td>NaN</td>\n",
       "      <td>NaN</td>\n",
       "      <td>NaN</td>\n",
       "      <td>NaN</td>\n",
       "    </tr>\n",
       "    <tr>\n",
       "      <th>11781014</th>\n",
       "      <td>11227634</td>\n",
       "      <td>08/26/2017 10:00:00 AM</td>\n",
       "      <td>chicago</td>\n",
       "      <td>NON-AGGRAVATED</td>\n",
       "      <td>illinios</td>\n",
       "      <td>NaN</td>\n",
       "      <td>NaN</td>\n",
       "      <td>NaN</td>\n",
       "      <td>NaN</td>\n",
       "      <td>NaN</td>\n",
       "      <td>NaN</td>\n",
       "    </tr>\n",
       "  </tbody>\n",
       "</table>\n",
       "</div>"
      ],
      "text/plain": [
       "               key                    date     city  \\\n",
       "11781010  11034701  01/01/2001 11:00:00 AM  chicago   \n",
       "11781011  11227287  10/08/2017 03:00:00 AM  chicago   \n",
       "11781012  11227583  03/28/2017 02:00:00 PM  chicago   \n",
       "11781013  11227293  09/09/2017 08:17:00 PM  chicago   \n",
       "11781014  11227634  08/26/2017 10:00:00 AM  chicago   \n",
       "\n",
       "                             offense category     state race  sex age_group  \\\n",
       "11781010  FINANCIAL IDENTITY THEFT OVER $ 300  illinios  NaN  NaN       NaN   \n",
       "11781011                       NON-AGGRAVATED  illinios  NaN  NaN       NaN   \n",
       "11781012                       UNLAWFUL ENTRY  illinios  NaN  NaN       NaN   \n",
       "11781013                            OVER $500  illinios  NaN  NaN       NaN   \n",
       "11781014                       NON-AGGRAVATED  illinios  NaN  NaN       NaN   \n",
       "\n",
       "         zipcode geo_x geo_y  \n",
       "11781010     NaN   NaN   NaN  \n",
       "11781011     NaN   NaN   NaN  \n",
       "11781012     NaN   NaN   NaN  \n",
       "11781013     NaN   NaN   NaN  \n",
       "11781014     NaN   NaN   NaN  "
      ]
     },
     "execution_count": 12,
     "metadata": {},
     "output_type": "execute_result"
    }
   ],
   "source": [
    "chicago.head()"
   ]
  },
  {
   "cell_type": "code",
   "execution_count": 14,
   "metadata": {},
   "outputs": [
    {
     "name": "stderr",
     "output_type": "stream",
     "text": [
      "/home/bh_parijat/anaconda3/lib/python3.7/site-packages/ipykernel_launcher.py:1: SettingWithCopyWarning: \n",
      "A value is trying to be set on a copy of a slice from a DataFrame.\n",
      "Try using .loc[row_indexer,col_indexer] = value instead\n",
      "\n",
      "See the caveats in the documentation: http://pandas.pydata.org/pandas-docs/stable/user_guide/indexing.html#returning-a-view-versus-a-copy\n",
      "  \"\"\"Entry point for launching an IPython kernel.\n"
     ]
    }
   ],
   "source": [
    "chicago['year'] = chicago.date.apply(lambda x:pd.Timestamp(x).year)"
   ]
  },
  {
   "cell_type": "code",
   "execution_count": null,
   "metadata": {},
   "outputs": [],
   "source": [
    "chicago_age = chicago.age_group.value_counts().sort_values(ascending = False)[:5]\n",
    "plt.figure(figsize=(10,8))\n",
    "sns.barplot(x=new_york_age.index, y = new_york_age )\n",
    "plt.title(\"Crime by Age Group in New York\")\n",
    "plt.xlabel(\"Age group\")\n",
    "plt.ylabel(\"Number of Arrests\")\n",
    "plt.savefig(\"images/new_york_age.jpg\")"
   ]
  },
  {
   "cell_type": "code",
   "execution_count": 17,
   "metadata": {},
   "outputs": [],
   "source": [
    "portland = master[master.city == \"portland\"]"
   ]
  },
  {
   "cell_type": "code",
   "execution_count": 18,
   "metadata": {},
   "outputs": [
    {
     "data": {
      "text/html": [
       "<div>\n",
       "<style scoped>\n",
       "    .dataframe tbody tr th:only-of-type {\n",
       "        vertical-align: middle;\n",
       "    }\n",
       "\n",
       "    .dataframe tbody tr th {\n",
       "        vertical-align: top;\n",
       "    }\n",
       "\n",
       "    .dataframe thead th {\n",
       "        text-align: right;\n",
       "    }\n",
       "</style>\n",
       "<table border=\"1\" class=\"dataframe\">\n",
       "  <thead>\n",
       "    <tr style=\"text-align: right;\">\n",
       "      <th></th>\n",
       "      <th>key</th>\n",
       "      <th>date</th>\n",
       "      <th>city</th>\n",
       "      <th>offense category</th>\n",
       "      <th>state</th>\n",
       "      <th>race</th>\n",
       "      <th>sex</th>\n",
       "      <th>age_group</th>\n",
       "      <th>zipcode</th>\n",
       "      <th>geo_x</th>\n",
       "      <th>geo_y</th>\n",
       "    </tr>\n",
       "  </thead>\n",
       "  <tbody>\n",
       "    <tr>\n",
       "      <th>0</th>\n",
       "      <td>16-X4472988</td>\n",
       "      <td>1/1/2016</td>\n",
       "      <td>portland</td>\n",
       "      <td>Assault Offenses</td>\n",
       "      <td>oregon</td>\n",
       "      <td>NaN</td>\n",
       "      <td>NaN</td>\n",
       "      <td>NaN</td>\n",
       "      <td>NaN</td>\n",
       "      <td>NaN</td>\n",
       "      <td>NaN</td>\n",
       "    </tr>\n",
       "    <tr>\n",
       "      <th>1</th>\n",
       "      <td>16-X4473035</td>\n",
       "      <td>1/1/2016</td>\n",
       "      <td>portland</td>\n",
       "      <td>Assault Offenses</td>\n",
       "      <td>oregon</td>\n",
       "      <td>NaN</td>\n",
       "      <td>NaN</td>\n",
       "      <td>NaN</td>\n",
       "      <td>NaN</td>\n",
       "      <td>NaN</td>\n",
       "      <td>NaN</td>\n",
       "    </tr>\n",
       "    <tr>\n",
       "      <th>2</th>\n",
       "      <td>16-X4473043</td>\n",
       "      <td>1/1/2016</td>\n",
       "      <td>portland</td>\n",
       "      <td>Assault Offenses</td>\n",
       "      <td>oregon</td>\n",
       "      <td>NaN</td>\n",
       "      <td>NaN</td>\n",
       "      <td>NaN</td>\n",
       "      <td>NaN</td>\n",
       "      <td>NaN</td>\n",
       "      <td>NaN</td>\n",
       "    </tr>\n",
       "    <tr>\n",
       "      <th>3</th>\n",
       "      <td>16-X4473057</td>\n",
       "      <td>1/1/2016</td>\n",
       "      <td>portland</td>\n",
       "      <td>Assault Offenses</td>\n",
       "      <td>oregon</td>\n",
       "      <td>NaN</td>\n",
       "      <td>NaN</td>\n",
       "      <td>NaN</td>\n",
       "      <td>NaN</td>\n",
       "      <td>NaN</td>\n",
       "      <td>NaN</td>\n",
       "    </tr>\n",
       "    <tr>\n",
       "      <th>4</th>\n",
       "      <td>16-X4473081</td>\n",
       "      <td>1/1/2016</td>\n",
       "      <td>portland</td>\n",
       "      <td>Assault Offenses</td>\n",
       "      <td>oregon</td>\n",
       "      <td>NaN</td>\n",
       "      <td>NaN</td>\n",
       "      <td>NaN</td>\n",
       "      <td>NaN</td>\n",
       "      <td>NaN</td>\n",
       "      <td>NaN</td>\n",
       "    </tr>\n",
       "  </tbody>\n",
       "</table>\n",
       "</div>"
      ],
      "text/plain": [
       "           key      date      city  offense category   state race  sex  \\\n",
       "0  16-X4472988  1/1/2016  portland  Assault Offenses  oregon  NaN  NaN   \n",
       "1  16-X4473035  1/1/2016  portland  Assault Offenses  oregon  NaN  NaN   \n",
       "2  16-X4473043  1/1/2016  portland  Assault Offenses  oregon  NaN  NaN   \n",
       "3  16-X4473057  1/1/2016  portland  Assault Offenses  oregon  NaN  NaN   \n",
       "4  16-X4473081  1/1/2016  portland  Assault Offenses  oregon  NaN  NaN   \n",
       "\n",
       "  age_group zipcode geo_x geo_y  \n",
       "0       NaN     NaN   NaN   NaN  \n",
       "1       NaN     NaN   NaN   NaN  \n",
       "2       NaN     NaN   NaN   NaN  \n",
       "3       NaN     NaN   NaN   NaN  \n",
       "4       NaN     NaN   NaN   NaN  "
      ]
     },
     "execution_count": 18,
     "metadata": {},
     "output_type": "execute_result"
    }
   ],
   "source": [
    "portland.head()"
   ]
  },
  {
   "cell_type": "code",
   "execution_count": null,
   "metadata": {},
   "outputs": [],
   "source": []
  },
  {
   "cell_type": "code",
   "execution_count": 21,
   "metadata": {},
   "outputs": [
    {
     "name": "stderr",
     "output_type": "stream",
     "text": [
      "/home/bh_parijat/anaconda3/lib/python3.7/site-packages/ipykernel_launcher.py:1: SettingWithCopyWarning: \n",
      "A value is trying to be set on a copy of a slice from a DataFrame.\n",
      "Try using .loc[row_indexer,col_indexer] = value instead\n",
      "\n",
      "See the caveats in the documentation: http://pandas.pydata.org/pandas-docs/stable/user_guide/indexing.html#returning-a-view-versus-a-copy\n",
      "  \"\"\"Entry point for launching an IPython kernel.\n"
     ]
    }
   ],
   "source": [
    "portland['year'] = portland.date.apply(lambda x:pd.Timestamp(x).year)"
   ]
  },
  {
   "cell_type": "code",
   "execution_count": 22,
   "metadata": {},
   "outputs": [
    {
     "data": {
      "text/plain": [
       "2018    59939\n",
       "2017    59672\n",
       "2016    56945\n",
       "2019    52604\n",
       "2015    38355\n",
       "2014      324\n",
       "2013      149\n",
       "2012       87\n",
       "2011       68\n",
       "2010       47\n",
       "2009       31\n",
       "2008       31\n",
       "2006       23\n",
       "2005       21\n",
       "2007       17\n",
       "2000       12\n",
       "2002       10\n",
       "1998       10\n",
       "1996        7\n",
       "2004        6\n",
       "2001        6\n",
       "2003        4\n",
       "1991        3\n",
       "1997        3\n",
       "1977        3\n",
       "1979        2\n",
       "1984        2\n",
       "1999        2\n",
       "1993        2\n",
       "1995        2\n",
       "1992        1\n",
       "1990        1\n",
       "1988        1\n",
       "1987        1\n",
       "1986        1\n",
       "1983        1\n",
       "1980        1\n",
       "1994        1\n",
       "1975        1\n",
       "1972        1\n",
       "Name: year, dtype: int64"
      ]
     },
     "execution_count": 22,
     "metadata": {},
     "output_type": "execute_result"
    }
   ],
   "source": [
    "portland.year.value_counts()"
   ]
  },
  {
   "cell_type": "code",
   "execution_count": 27,
   "metadata": {},
   "outputs": [
    {
     "data": {
      "image/png": "[encoded data removed]",
      "text/plain": [
       "<Figure size 216x576 with 1 Axes>"
      ]
     },
     "metadata": {
      "needs_background": "light"
     },
     "output_type": "display_data"
    }
   ],
   "source": [
    "portland_year = portland.year.value_counts().sort_values(ascending = False)[:3]\n",
    "plt.figure(figsize=(3,8))\n",
    "sns.barplot(x=portland_year.index, y = portland_year)\n",
    "plt.title(\"Years in crime\")\n",
    "plt.xlabel(\"Years\")\n",
    "plt.ylabel(\"Offense count\")\n",
    "plt.savefig(\"images/portland_year.jpg\")"
   ]
  },
  {
   "cell_type": "code",
   "execution_count": 28,
   "metadata": {},
   "outputs": [],
   "source": [
    "denver = master[master.city == \"denver\"]"
   ]
  },
  {
   "cell_type": "code",
   "execution_count": 30,
   "metadata": {},
   "outputs": [
    {
     "data": {
      "text/html": [
       "<div>\n",
       "<style scoped>\n",
       "    .dataframe tbody tr th:only-of-type {\n",
       "        vertical-align: middle;\n",
       "    }\n",
       "\n",
       "    .dataframe tbody tr th {\n",
       "        vertical-align: top;\n",
       "    }\n",
       "\n",
       "    .dataframe thead th {\n",
       "        text-align: right;\n",
       "    }\n",
       "</style>\n",
       "<table border=\"1\" class=\"dataframe\">\n",
       "  <thead>\n",
       "    <tr style=\"text-align: right;\">\n",
       "      <th></th>\n",
       "      <th>key</th>\n",
       "      <th>date</th>\n",
       "      <th>city</th>\n",
       "      <th>offense category</th>\n",
       "      <th>state</th>\n",
       "      <th>race</th>\n",
       "      <th>sex</th>\n",
       "      <th>age_group</th>\n",
       "      <th>zipcode</th>\n",
       "      <th>geo_x</th>\n",
       "      <th>geo_y</th>\n",
       "    </tr>\n",
       "  </thead>\n",
       "  <tbody>\n",
       "    <tr>\n",
       "      <th>11308224</th>\n",
       "      <td>2018869789</td>\n",
       "      <td>12/27/2018 4:51:00 PM</td>\n",
       "      <td>denver</td>\n",
       "      <td>larceny</td>\n",
       "      <td>colorado</td>\n",
       "      <td>NaN</td>\n",
       "      <td>NaN</td>\n",
       "      <td>NaN</td>\n",
       "      <td>NaN</td>\n",
       "      <td>3.17821e+06</td>\n",
       "      <td>1.70072e+06</td>\n",
       "    </tr>\n",
       "    <tr>\n",
       "      <th>11308225</th>\n",
       "      <td>2015664356</td>\n",
       "      <td>11/13/2015 8:38:00 AM</td>\n",
       "      <td>denver</td>\n",
       "      <td>traffic-accident</td>\n",
       "      <td>colorado</td>\n",
       "      <td>NaN</td>\n",
       "      <td>NaN</td>\n",
       "      <td>NaN</td>\n",
       "      <td>NaN</td>\n",
       "      <td>3.12915e+06</td>\n",
       "      <td>1.69475e+06</td>\n",
       "    </tr>\n",
       "    <tr>\n",
       "      <th>11308226</th>\n",
       "      <td>20176005213</td>\n",
       "      <td>6/12/2017 8:44:00 AM</td>\n",
       "      <td>denver</td>\n",
       "      <td>larceny</td>\n",
       "      <td>colorado</td>\n",
       "      <td>NaN</td>\n",
       "      <td>NaN</td>\n",
       "      <td>NaN</td>\n",
       "      <td>NaN</td>\n",
       "      <td>3.14079e+06</td>\n",
       "      <td>1.69979e+06</td>\n",
       "    </tr>\n",
       "    <tr>\n",
       "      <th>11308227</th>\n",
       "      <td>20196012240</td>\n",
       "      <td>12/9/2019 1:35:00 PM</td>\n",
       "      <td>denver</td>\n",
       "      <td>larceny</td>\n",
       "      <td>colorado</td>\n",
       "      <td>NaN</td>\n",
       "      <td>NaN</td>\n",
       "      <td>NaN</td>\n",
       "      <td>NaN</td>\n",
       "      <td>3.1324e+06</td>\n",
       "      <td>1.69409e+06</td>\n",
       "    </tr>\n",
       "    <tr>\n",
       "      <th>11308228</th>\n",
       "      <td>2018861883</td>\n",
       "      <td>12/22/2018 10:00:00 PM</td>\n",
       "      <td>denver</td>\n",
       "      <td>all-other-crimes</td>\n",
       "      <td>colorado</td>\n",
       "      <td>NaN</td>\n",
       "      <td>NaN</td>\n",
       "      <td>NaN</td>\n",
       "      <td>NaN</td>\n",
       "      <td>3.18858e+06</td>\n",
       "      <td>1.71616e+06</td>\n",
       "    </tr>\n",
       "  </tbody>\n",
       "</table>\n",
       "</div>"
      ],
      "text/plain": [
       "                  key                    date    city  offense category  \\\n",
       "11308224   2018869789   12/27/2018 4:51:00 PM  denver           larceny   \n",
       "11308225   2015664356   11/13/2015 8:38:00 AM  denver  traffic-accident   \n",
       "11308226  20176005213    6/12/2017 8:44:00 AM  denver           larceny   \n",
       "11308227  20196012240    12/9/2019 1:35:00 PM  denver           larceny   \n",
       "11308228   2018861883  12/22/2018 10:00:00 PM  denver  all-other-crimes   \n",
       "\n",
       "             state race  sex age_group zipcode        geo_x        geo_y  \n",
       "11308224  colorado  NaN  NaN       NaN     NaN  3.17821e+06  1.70072e+06  \n",
       "11308225  colorado  NaN  NaN       NaN     NaN  3.12915e+06  1.69475e+06  \n",
       "11308226  colorado  NaN  NaN       NaN     NaN  3.14079e+06  1.69979e+06  \n",
       "11308227  colorado  NaN  NaN       NaN     NaN   3.1324e+06  1.69409e+06  \n",
       "11308228  colorado  NaN  NaN       NaN     NaN  3.18858e+06  1.71616e+06  "
      ]
     },
     "execution_count": 30,
     "metadata": {},
     "output_type": "execute_result"
    }
   ],
   "source": [
    "denver.head()"
   ]
  },
  {
   "cell_type": "code",
   "execution_count": 50,
   "metadata": {},
   "outputs": [
    {
     "data": {
      "text/html": [
       "<div>\n",
       "<style scoped>\n",
       "    .dataframe tbody tr th:only-of-type {\n",
       "        vertical-align: middle;\n",
       "    }\n",
       "\n",
       "    .dataframe tbody tr th {\n",
       "        vertical-align: top;\n",
       "    }\n",
       "\n",
       "    .dataframe thead th {\n",
       "        text-align: right;\n",
       "    }\n",
       "</style>\n",
       "<table border=\"1\" class=\"dataframe\">\n",
       "  <thead>\n",
       "    <tr style=\"text-align: right;\">\n",
       "      <th></th>\n",
       "      <th>key</th>\n",
       "      <th>date</th>\n",
       "      <th>city</th>\n",
       "      <th>offense category</th>\n",
       "      <th>state</th>\n",
       "      <th>race</th>\n",
       "      <th>sex</th>\n",
       "      <th>age_group</th>\n",
       "      <th>zipcode</th>\n",
       "      <th>geo_x</th>\n",
       "      <th>geo_y</th>\n",
       "    </tr>\n",
       "  </thead>\n",
       "  <tbody>\n",
       "    <tr>\n",
       "      <th>5576827</th>\n",
       "      <td>1044975</td>\n",
       "      <td>2014-01-01 01:25:00</td>\n",
       "      <td>san diego</td>\n",
       "      <td>Moving Violation</td>\n",
       "      <td>california</td>\n",
       "      <td>W</td>\n",
       "      <td>M</td>\n",
       "      <td>24</td>\n",
       "      <td>NaN</td>\n",
       "      <td>NaN</td>\n",
       "      <td>NaN</td>\n",
       "    </tr>\n",
       "    <tr>\n",
       "      <th>5576828</th>\n",
       "      <td>1044976</td>\n",
       "      <td>2014-01-01 05:47:00</td>\n",
       "      <td>san diego</td>\n",
       "      <td>Moving Violation</td>\n",
       "      <td>california</td>\n",
       "      <td>W</td>\n",
       "      <td>M</td>\n",
       "      <td>42</td>\n",
       "      <td>NaN</td>\n",
       "      <td>NaN</td>\n",
       "      <td>NaN</td>\n",
       "    </tr>\n",
       "    <tr>\n",
       "      <th>5576829</th>\n",
       "      <td>1044977</td>\n",
       "      <td>2014-01-01 07:46:00</td>\n",
       "      <td>san diego</td>\n",
       "      <td>Moving Violation</td>\n",
       "      <td>california</td>\n",
       "      <td>L</td>\n",
       "      <td>M</td>\n",
       "      <td>29</td>\n",
       "      <td>NaN</td>\n",
       "      <td>NaN</td>\n",
       "      <td>NaN</td>\n",
       "    </tr>\n",
       "    <tr>\n",
       "      <th>5576830</th>\n",
       "      <td>1044978</td>\n",
       "      <td>2014-01-01 08:10:00</td>\n",
       "      <td>san diego</td>\n",
       "      <td>Moving Violation</td>\n",
       "      <td>california</td>\n",
       "      <td>W</td>\n",
       "      <td>M</td>\n",
       "      <td>23</td>\n",
       "      <td>NaN</td>\n",
       "      <td>NaN</td>\n",
       "      <td>NaN</td>\n",
       "    </tr>\n",
       "    <tr>\n",
       "      <th>5576831</th>\n",
       "      <td>1044980</td>\n",
       "      <td>2014-01-01 08:35:00</td>\n",
       "      <td>san diego</td>\n",
       "      <td>Equipment Violation</td>\n",
       "      <td>california</td>\n",
       "      <td>H</td>\n",
       "      <td>M</td>\n",
       "      <td>35</td>\n",
       "      <td>NaN</td>\n",
       "      <td>NaN</td>\n",
       "      <td>NaN</td>\n",
       "    </tr>\n",
       "  </tbody>\n",
       "</table>\n",
       "</div>"
      ],
      "text/plain": [
       "             key                 date       city     offense category  \\\n",
       "5576827  1044975  2014-01-01 01:25:00  san diego     Moving Violation   \n",
       "5576828  1044976  2014-01-01 05:47:00  san diego     Moving Violation   \n",
       "5576829  1044977  2014-01-01 07:46:00  san diego     Moving Violation   \n",
       "5576830  1044978  2014-01-01 08:10:00  san diego     Moving Violation   \n",
       "5576831  1044980  2014-01-01 08:35:00  san diego  Equipment Violation   \n",
       "\n",
       "              state race sex age_group zipcode geo_x geo_y  \n",
       "5576827  california    W   M        24     NaN   NaN   NaN  \n",
       "5576828  california    W   M        42     NaN   NaN   NaN  \n",
       "5576829  california    L   M        29     NaN   NaN   NaN  \n",
       "5576830  california    W   M        23     NaN   NaN   NaN  \n",
       "5576831  california    H   M        35     NaN   NaN   NaN  "
      ]
     },
     "execution_count": 50,
     "metadata": {},
     "output_type": "execute_result"
    }
   ],
   "source": [
    "san_diego = master[master.city == \"san diego\"]\n",
    "san_diego.head()"
   ]
  },
  {
   "cell_type": "code",
   "execution_count": 51,
   "metadata": {},
   "outputs": [
    {
     "name": "stderr",
     "output_type": "stream",
     "text": [
      "/home/bh_parijat/anaconda3/lib/python3.7/site-packages/ipykernel_launcher.py:8: SettingWithCopyWarning: \n",
      "A value is trying to be set on a copy of a slice from a DataFrame.\n",
      "Try using .loc[row_indexer,col_indexer] = value instead\n",
      "\n",
      "See the caveats in the documentation: http://pandas.pydata.org/pandas-docs/stable/user_guide/indexing.html#returning-a-view-versus-a-copy\n",
      "  \n"
     ]
    }
   ],
   "source": [
    "mp = {}\n",
    "mp['W'] = 'white'\n",
    "mp['H'] = 'hispanic'\n",
    "mp['B'] = 'black'\n",
    "mp['A'] = 'asian'\n",
    "mp['O'] = 'other'\n",
    "\n",
    "san_diego['race'] = san_diego.race.apply(lambda x: mp[x] if x in mp else x)"
   ]
  },
  {
   "cell_type": "code",
   "execution_count": 60,
   "metadata": {},
   "outputs": [
    {
     "data": {
      "text/plain": [
       "Text(0, 0.5, 'arrest count')"
      ]
     },
     "execution_count": 60,
     "metadata": {},
     "output_type": "execute_result"
    },
    {
     "data": {
      "image/png": "[encoded data removed]",
      "text/plain": [
       "<Figure size 432x576 with 1 Axes>"
      ]
     },
     "metadata": {
      "needs_background": "light"
     },
     "output_type": "display_data"
    }
   ],
   "source": [
    "san_diego_race = san_diego.race.value_counts().sort_values(ascending = False)[:5]\n",
    "plt.figure(figsize=(6,8))\n",
    "sns.barplot(x=san_diego_race.index, y = san_diego_race)\n",
    "plt.title(\"crime and ethinicity\")\n",
    "plt.xlabel(\"ethinicty\")\n",
    "plt.ylabel(\"arrest count\")\n",
    "#plt.savefig(\"images/san_diego.jpg\")"
   ]
  },
  {
   "cell_type": "code",
   "execution_count": 54,
   "metadata": {},
   "outputs": [
    {
     "data": {
      "text/plain": [
       "white       208538\n",
       "hispanic    152629\n",
       "black        57195\n",
       "other        37698\n",
       "asian        23742\n",
       "F             6660\n",
       "V             3634\n",
       "C             2688\n",
       "I             2531\n",
       "K              720\n",
       "X              713\n",
       "J              620\n",
       "P              614\n",
       "L              375\n",
       "Z              370\n",
       "S              331\n",
       "D              273\n",
       "G              131\n",
       "U              130\n",
       "Name: race, dtype: int64"
      ]
     },
     "execution_count": 54,
     "metadata": {},
     "output_type": "execute_result"
    }
   ],
   "source": [
    "san_diego.race.value_counts()"
   ]
  },
  {
   "cell_type": "code",
   "execution_count": 62,
   "metadata": {},
   "outputs": [
    {
     "data": {
      "image/png": "[encoded data removed]",
      "text/plain": [
       "<Figure size 720x576 with 1 Axes>"
      ]
     },
     "metadata": {},
     "output_type": "display_data"
    }
   ],
   "source": [
    "plt.figure(figsize = (10,8))\n",
    "plt.title(\"crime and ethinicity\")\n",
    "san_diego_race.plot(kind='pie')\n",
    "plt.savefig(\"images/san_diego.jpg\")"
   ]
  },
  {
   "cell_type": "code",
   "execution_count": null,
   "metadata": {},
   "outputs": [],
   "source": []
  }
 ],
 "metadata": {
  "kernelspec": {
   "display_name": "Python 3",
   "language": "python",
   "name": "python3"
  },
  "language_info": {
   "codemirror_mode": {
    "name": "ipython",
    "version": 3
   },
   "file_extension": ".py",
   "mimetype": "text/x-python",
   "name": "python",
   "nbconvert_exporter": "python",
   "pygments_lexer": "ipython3",
   "version": "3.7.5"
  }
 },
 "nbformat": 4,
 "nbformat_minor": 2
}
